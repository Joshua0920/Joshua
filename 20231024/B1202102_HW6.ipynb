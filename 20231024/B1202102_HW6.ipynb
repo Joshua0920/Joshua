{
  "nbformat": 4,
  "nbformat_minor": 0,
  "metadata": {
    "colab": {
      "provenance": []
    },
    "kernelspec": {
      "name": "python3",
      "display_name": "Python 3"
    },
    "language_info": {
      "name": "python"
    }
  },
  "cells": [
    {
      "cell_type": "code",
      "execution_count": 1,
      "metadata": {
        "colab": {
          "base_uri": "https://localhost:8080/"
        },
        "id": "1QFrOgSYyYCB",
        "outputId": "ce8bee48-47a1-486f-e868-f34646d86606"
      },
      "outputs": [
        {
          "output_type": "stream",
          "name": "stdout",
          "text": [
            "聖誕樹層數：10\n",
            "          *\n",
            "         ***\n",
            "        *****\n",
            "       *******\n",
            "      *********\n",
            "     ***********\n",
            "    *************\n",
            "   ***************\n",
            "  *****************\n",
            " *******************\n",
            "         ***\n",
            "         ***\n",
            "         ***\n",
            "         ***\n",
            "         ***\n"
          ]
        }
      ],
      "source": [
        "width=int(input('聖誕樹層數：'))\n",
        "def tree(width):\n",
        "  stars=1\n",
        "  for i in range(width):\n",
        "    print((' '*(width - i))+('*'*stars))\n",
        "    stars += 2\n",
        "\n",
        "  for i in range(5):\n",
        "    print((' '*(width-1))+'*'*3)\n",
        "tree(width)\n"
      ]
    },
    {
      "cell_type": "code",
      "source": [
        "def calculate_bmi(height, weight):\n",
        "    try:\n",
        "        height = float(height)\n",
        "        weight = float(weight)\n",
        "    except ValueError:\n",
        "        return \"輸入內容錯誤，請輸入數字\",None\n",
        "    if height <= 0 or weight <= 0:\n",
        "        return \"身高和體重必須大於零\",None\n",
        "\n",
        "    height /= 100\n",
        "    bmi = weight / (height ** 2)\n",
        "    if bmi < 18.5:\n",
        "        result = \"過輕\"\n",
        "    elif 18.5 <= bmi < 24:\n",
        "        result = \"正常\"\n",
        "    elif 24 <= bmi < 27:\n",
        "        result = \"過重\"\n",
        "    else:\n",
        "        result = \"肥胖\"\n",
        "\n",
        "    return bmi, result\n",
        "if __name__ == \"__main__\":\n",
        "    height = input(\"請輸入身高（公分）：\")\n",
        "    weight = input(\"請輸入體重（公斤）：\")\n",
        "\n",
        "    bmi, result = calculate_bmi(height, weight)\n",
        "\n",
        "    if bmi is not None and result is not None:\n",
        "        print(f\"您的BMI值為：{bmi:.2f}\")\n",
        "        print(f\"您的體位是：{result}\")\n",
        "\n",
        "calculate_bmi(height, weight)"
      ],
      "metadata": {
        "colab": {
          "base_uri": "https://localhost:8080/"
        },
        "id": "lo8YcbB4y6qy",
        "outputId": "84e02290-9bfa-412c-a098-59159a14fa76"
      },
      "execution_count": 3,
      "outputs": [
        {
          "output_type": "stream",
          "name": "stdout",
          "text": [
            "請輸入身高（公分）：178\n",
            "請輸入體重（公斤）：60\n",
            "您的BMI值為：18.94\n",
            "您的體位是：正常\n"
          ]
        },
        {
          "output_type": "execute_result",
          "data": {
            "text/plain": [
              "(18.93700290367378, '正常')"
            ]
          },
          "metadata": {},
          "execution_count": 3
        }
      ]
    }
  ]
}